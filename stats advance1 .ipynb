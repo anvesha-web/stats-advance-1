{
 "cells": [
  {
   "attachments": {},
   "cell_type": "markdown",
   "id": "16e5946a-e8c7-4143-8067-6f1368bac899",
   "metadata": {},
   "source": [
    "Theoritical questions\n",
    "1 What is a random variable in probability theory?A random variable (RV) is a function that assigns numerical values to outcomes of a random experiment.\n",
    "Example: Tossing a coin → define RV X as the number of heads. For \"Heads\" outcome, X=1; for \"Tails,\" X=0.\n",
    "\n",
    "2 What are the types of random variables?\n",
    "Discrete random variable: Takes countable values (e.g., number of heads in 10 tosses).\n",
    "Continuous random variable: Takes values from a continuous range of real numbers (e.g., height, time, weight).\n",
    "\n",
    "3 Explain the difference between discrete and continuous distributions.\n",
    "Discrete distribution: Probability is assigned to specific values (P(X=x)). Example: Binomial, Poisson.\n",
    "Continuous distribution: Probability is described by a density function (PDF), and probabilities are found over intervals, e.g., P(a ≤ X ≤ b). Example: Normal, Exponential.\n",
    "\n",
    "4 What is a binomial distribution, and how is it used in probability?\n",
    "A binomial distribution models the number of successes in n independent Bernoulli trials (success/failure experiments).\n",
    "Uses: Quality control, survey results, genetics (probability of certain outcomes).\n",
    "\n",
    "5 What is the standard normal distribution, and why is it important?\n",
    "A standard normal distribution is a normal distribution with mean = 0 and standard deviation = 1.\n",
    "Importance:\n",
    "Acts as a reference for all normal distributions (via standardization Z = (X-μ)/σ).\n",
    "Widely used in hypothesis testing and confidence intervals.\n",
    "\n",
    "6. What is the Central Limit Theorem (CLT), and why is it critical in statistics?\n",
    "CLT states: For a large sample size, the sampling distribution of the sample mean approaches a normal distribution, regardless of the population’s distribution.\n",
    "Critical because:\n",
    "It allows us to use the normal distribution to make inferences about population parameters.\n",
    "Foundation for hypothesis testing and confidence intervals.\n",
    "\n",
    "7. What is the significance of confidence intervals in statistical analysis?\n",
    "A confidence interval (CI) gives a range of values that is likely to contain the true population parameter with a certain confidence level (e.g., 95%).\n",
    "Significance:\n",
    "Provides more information than a single point estimate.\n",
    "Indicates the precision and reliability of estimates.\n",
    "\n",
    "8. What is the concept of expected value in a probability distribution?\n",
    "Expected value (EV) is the long-run average outcome of a random variable.\n",
    "For a discrete RV:\n",
    "E[X]=∑x⋅P(X=x)\n",
    "E[X]=∫\n",
    "xf(x)dx\n",
    "Importance: Represents the \"center of gravity\" or mean of a probability distribution.\n",
    "\n",
    "\n"
   ]
  },
  {
   "cell_type": "code",
   "execution_count": 3,
   "id": "e777867d-3edf-4fb2-9750-1a7adc60a337",
   "metadata": {},
   "outputs": [],
   "source": [
    "#practical questions\n",
    "#9\n",
    "import numpy as np\n",
    "import matplotlib.pyplot as plt\n",
    "\n",
    "# Generate 1000 random numbers from a normal distribution\n",
    "mean = 50\n",
    "std_dev = 5\n",
    "data = np.random.normal(mean, std_dev, 1000)\n"
   ]
  },
  {
   "cell_type": "code",
   "execution_count": 2,
   "id": "f8ed175b-27a3-4765-8606-df8c1d78bf3b",
   "metadata": {},
   "outputs": [
    {
     "name": "stdout",
     "output_type": "stream",
     "text": [
      "Calculated Mean: 49.90915355553533\n",
      "Calculated Standard Deviation: 4.958702272666162\n"
     ]
    }
   ],
   "source": [
    "calculated_mean = np.mean(data)\n",
    "calculated_std = np.std(data)\n",
    "\n",
    "print(f\"Calculated Mean: {calculated_mean}\")\n",
    "print(f\"Calculated Standard Deviation: {calculated_std}\")"
   ]
  },
  {
   "cell_type": "code",
   "execution_count": 4,
   "id": "9e671b9f-fc5c-44a2-806e-ddf88dee141c",
   "metadata": {},
   "outputs": [
    {
     "data": {
      "image/png": "[encoded data removed]",
      "text/plain": [
       "<Figure size 640x480 with 1 Axes>"
      ]
     },
     "metadata": {},
     "output_type": "display_data"
    }
   ],
   "source": [
    "plt.hist(data, bins=30, edgecolor='black', alpha=0.7)\n",
    "plt.title(\"Histogram of Normal Distribution (Mean=50, Std=5)\")\n",
    "plt.xlabel(\"Value\")\n",
    "plt.ylabel(\"Frequency\")\n",
    "plt.show()"
   ]
  },
  {
   "cell_type": "code",
   "execution_count": 7,
   "id": "ed0857eb-cc93-48ea-85a9-48c70250b5f4",
   "metadata": {},
   "outputs": [],
   "source": [
    "#10 \n",
    "import numpy as np\n",
    "import statistics as stats\n",
    "\n",
    "daily_sales = [220, 245, 210, 265, 230, 250, 260, 275, 240, 255,\n",
    "               235, 260, 245, 250, 225, 270, 265, 255, 250, 260]\n",
    "\n"
   ]
  },
  {
   "cell_type": "code",
   "execution_count": 8,
   "id": "ac7136df-11fc-4fc0-a60a-f0c343550015",
   "metadata": {},
   "outputs": [],
   "source": [
    "data = np.array(daily_sales)"
   ]
  },
  {
   "cell_type": "code",
   "execution_count": null,
   "id": "ec76858c-8069-42e3-9412-559c4dad1675",
   "metadata": {},
   "outputs": [],
   "source": []
  }
 ],
 "metadata": {
  "kernelspec": {
   "display_name": "Python 3 (ipykernel)",
   "language": "python",
   "name": "python3"
  },
  "language_info": {
   "codemirror_mode": {
    "name": "ipython",
    "version": 3
   },
   "file_extension": ".py",
   "mimetype": "text/x-python",
   "name": "python",
   "nbconvert_exporter": "python",
   "pygments_lexer": "ipython3",
   "version": "3.13.7"
  }
 },
 "nbformat": 4,
 "nbformat_minor": 5
}
